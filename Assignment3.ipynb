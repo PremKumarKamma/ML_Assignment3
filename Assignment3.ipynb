{
  "nbformat": 4,
  "nbformat_minor": 0,
  "metadata": {
    "colab": {
      "provenance": []
    },
    "kernelspec": {
      "name": "python3",
      "display_name": "Python 3"
    },
    "language_info": {
      "name": "python"
    }
  },
  "cells": [
    {
      "cell_type": "code",
      "execution_count": 1,
      "metadata": {
        "colab": {
          "base_uri": "https://localhost:8080/"
        },
        "id": "2nB-ks25jfK7",
        "outputId": "d7be3322-361b-4777-9e28-a74e908cd64d"
      },
      "outputs": [
        {
          "output_type": "stream",
          "name": "stdout",
          "text": [
            "Shape of the array: (3, 5)\n",
            "[[ 0  3 12  9 18]\n",
            " [ 3  7 13  0 10]\n",
            " [13 11 11 15  0]]\n"
          ]
        }
      ],
      "source": [
        "import numpy as np\n",
        "\n",
        "# Generate random vector\n",
        "random_vector = np.random.randint(1, 21, size=15)\n",
        "\n",
        "# Reshape into 3 by 5 matrix\n",
        "reshaped_array = random_vector.reshape(3, 5)\n",
        "\n",
        "# Print array shape\n",
        "print(\"Shape of the array:\", reshaped_array.shape)\n",
        "\n",
        "# Replace max in each row with 0\n",
        "for i in range(reshaped_array.shape[0]):\n",
        "    max_index = np.argmax(reshaped_array[i])\n",
        "    reshaped_array[i, max_index] = 0\n",
        "\n",
        "print(reshaped_array)\n"
      ]
    },
    {
      "cell_type": "code",
      "source": [],
      "metadata": {
        "id": "QF9HXwZBocNw"
      },
      "execution_count": null,
      "outputs": []
    },
    {
      "cell_type": "code",
      "source": [
        "import numpy as np\n",
        "\n",
        "# Create a 2-dimensional array of size 4 x 3 with 4-byte integer elements\n",
        "array_2d = np.zeros((4, 3), dtype=np.int32)\n",
        "\n",
        "# Print shape, type, and data type of the array\n",
        "print(\"Shape of the array:\", array_2d.shape)\n",
        "print(\"Type of the array:\", type(array_2d))\n",
        "print(\"Data type of the array:\", array_2d.dtype)\n"
      ],
      "metadata": {
        "colab": {
          "base_uri": "https://localhost:8080/"
        },
        "id": "e4tajovTj6D4",
        "outputId": "df0ff16e-2b87-4f81-ee87-665d71b18045"
      },
      "execution_count": 2,
      "outputs": [
        {
          "output_type": "stream",
          "name": "stdout",
          "text": [
            "Shape of the array: (4, 3)\n",
            "Type of the array: <class 'numpy.ndarray'>\n",
            "Data type of the array: int32\n"
          ]
        }
      ]
    },
    {
      "cell_type": "code",
      "source": [
        "import numpy as np\n",
        "\n",
        "# Define the square array\n",
        "square_array = np.array([[3, -21],\n",
        "                         [1, 0]])\n",
        "\n",
        "# Compute eigenvalues\n",
        "eigenvalues = np.linalg.eigvals(square_array)\n",
        "\n",
        "# Compute eigenvalues and right eigenvectors\n",
        "eigenvalues, right_eigenvectors = np.linalg.eig(square_array)\n",
        "\n",
        "# Print the results\n",
        "print(\"Eigenvalues:\")\n",
        "print(eigenvalues)\n",
        "print(\"\\nRight Eigenvectors:\")\n",
        "print(right_eigenvectors)\n"
      ],
      "metadata": {
        "colab": {
          "base_uri": "https://localhost:8080/"
        },
        "id": "5KHHsfD5kF4-",
        "outputId": "10319519-317e-4f16-daa8-c1c7192ba571"
      },
      "execution_count": 3,
      "outputs": [
        {
          "output_type": "stream",
          "name": "stdout",
          "text": [
            "Eigenvalues:\n",
            "[1.5+4.33012702j 1.5-4.33012702j]\n",
            "\n",
            "Right Eigenvectors:\n",
            "[[0.97700842+0.j         0.97700842-0.j        ]\n",
            " [0.06978632-0.20145574j 0.06978632+0.20145574j]]\n"
          ]
        }
      ]
    },
    {
      "cell_type": "code",
      "source": [
        "import numpy as np\n",
        "\n",
        "# Define the given array\n",
        "given_array = np.array([[0, 12],\n",
        "                        [3, 45]])\n",
        "\n",
        "# Calculate the sum of the diagonal elements\n",
        "diagonal_sum = np.trace(given_array)\n",
        "\n",
        "# Print the result\n",
        "print(\"Sum of diagonal elements:\", diagonal_sum)\n"
      ],
      "metadata": {
        "colab": {
          "base_uri": "https://localhost:8080/"
        },
        "id": "_RSxvXuOkuhy",
        "outputId": "5aed637b-85c1-4133-e20d-e226e376d59f"
      },
      "execution_count": 4,
      "outputs": [
        {
          "output_type": "stream",
          "name": "stdout",
          "text": [
            "Sum of diagonal elements: 45\n"
          ]
        }
      ]
    },
    {
      "cell_type": "code",
      "source": [
        "import numpy as np\n",
        "\n",
        "# Original arrays\n",
        "original_array_3x2 = np.array([[1, 2],\n",
        "                               [3, 4],\n",
        "                               [5, 6]])\n",
        "\n",
        "original_array_2x3 = np.array([[1, 2, 3],\n",
        "                               [4, 5, 6]])\n",
        "\n",
        "# Reshaping without changing data\n",
        "reshaped_array_3x2 = np.reshape(original_array_3x2, (3, 2))\n",
        "reshaped_array_2x3 = np.reshape(original_array_2x3, (2, 3))\n",
        "\n",
        "# Printing the reshaped arrays\n",
        "print(\"Original array reshaped to 3x2:\")\n",
        "print(reshaped_array_3x2)\n",
        "\n",
        "print(\"\\nOriginal array reshaped to 2x3:\")\n",
        "print(reshaped_array_2x3)\n"
      ],
      "metadata": {
        "colab": {
          "base_uri": "https://localhost:8080/"
        },
        "id": "JyACXJBnlEMt",
        "outputId": "d38e3871-e0d4-4ab1-8fa4-148d682943ba"
      },
      "execution_count": 5,
      "outputs": [
        {
          "output_type": "stream",
          "name": "stdout",
          "text": [
            "Original array reshaped to 3x2:\n",
            "[[1 2]\n",
            " [3 4]\n",
            " [5 6]]\n",
            "\n",
            "Original array reshaped to 2x3:\n",
            "[[1 2 3]\n",
            " [4 5 6]]\n"
          ]
        }
      ]
    }
  ]
}